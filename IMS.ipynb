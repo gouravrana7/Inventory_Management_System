{
  "nbformat": 4,
  "nbformat_minor": 0,
  "metadata": {
    "colab": {
      "name": "IMS.ipynb",
      "provenance": []
    },
    "kernelspec": {
      "name": "python3",
      "display_name": "Python 3"
    },
    "language_info": {
      "name": "python"
    }
  },
  "cells": [
    {
      "cell_type": "code",
      "metadata": {
        "id": "prJPZ-QPZMjd"
      },
      "source": [
        "import json\n",
        "\n",
        "fd= open(\"record.json\",\"r\")\n",
        "\n",
        "r=fd.read()\n",
        "\n",
        "fd.close()\n",
        "\n"
      ],
      "execution_count": 40,
      "outputs": []
    },
    {
      "cell_type": "code",
      "metadata": {
        "id": "62H9m5_-c0Qq"
      },
      "source": [
        "records= json.loads(r)"
      ],
      "execution_count": 41,
      "outputs": []
    },
    {
      "cell_type": "code",
      "metadata": {
        "colab": {
          "base_uri": "https://localhost:8080/"
        },
        "id": "It8KtmG9c0Ud",
        "outputId": "fc6a4720-b475-4cb7-8afa-799eeca0b3cb"
      },
      "source": [
        "records"
      ],
      "execution_count": 42,
      "outputs": [
        {
          "output_type": "execute_result",
          "data": {
            "text/plain": [
              "{'1000': {'categories': 'biscuit',\n",
              "  'eatable': 'veg',\n",
              "  'name': 'oreo',\n",
              "  'price': 10,\n",
              "  'quantity': 100},\n",
              " '1001': {'categories': 'biscuit',\n",
              "  'eatable': 'veg',\n",
              "  'name': 'sunfeast',\n",
              "  'price': 10,\n",
              "  'quantity': 100},\n",
              " '1002': {'categories': 'biscuit',\n",
              "  'eatable': 'veg',\n",
              "  'name': 'gudday',\n",
              "  'price': 10,\n",
              "  'quantity': 100},\n",
              " '1003': {'categories': 'biscuit',\n",
              "  'eatable': 'veg',\n",
              "  'name': 'bourbon',\n",
              "  'price': 10,\n",
              "  'quantity': 100},\n",
              " '1004': {'categories': 'chips',\n",
              "  'eatable': 'veg',\n",
              "  'name': 'lays',\n",
              "  'price': 10,\n",
              "  'quantity': 100},\n",
              " '1005': {'categories': 'chips',\n",
              "  'eatable': 'veg',\n",
              "  'name': 'kurkure',\n",
              "  'price': 10,\n",
              "  'quantity': 100},\n",
              " '1006': {'categories': 'chips',\n",
              "  'eatable': 'veg',\n",
              "  'name': 'unclechips',\n",
              "  'price': 10,\n",
              "  'quantity': 100},\n",
              " '1007': {'categories': 'soft drink',\n",
              "  'eatable': 'veg',\n",
              "  'name': 'mirinda',\n",
              "  'price': 30,\n",
              "  'quantity': 100},\n",
              " '1008': {'categories': 'soft drink',\n",
              "  'eatable': 'veg',\n",
              "  'name': 'coka cola',\n",
              "  'price': 30,\n",
              "  'quantity': 100},\n",
              " '1009': {'categories': 'soft drink',\n",
              "  'eatable': 'veg',\n",
              "  'name': 'limca',\n",
              "  'price': 30,\n",
              "  'quantity': 100},\n",
              " '1010': {'categories': 'soft drink',\n",
              "  'eatable': 'veg',\n",
              "  'name': 'dew',\n",
              "  'price': 30,\n",
              "  'quantity': 100},\n",
              " '1011': {'categories': 'soft drink',\n",
              "  'eatable': 'veg',\n",
              "  'name': 'monster',\n",
              "  'price': 30,\n",
              "  'quantity': 100},\n",
              " '1012': {'categories': 'soft drink',\n",
              "  'eatable': 'veg',\n",
              "  'name': 'sting',\n",
              "  'price': 20,\n",
              "  'quantity': 100},\n",
              " '1013': {'categories': 'soft drink',\n",
              "  'eatable': 'veg',\n",
              "  'name': 'maza',\n",
              "  'price': 20,\n",
              "  'quantity': 100},\n",
              " '1014': {'categories': 'soft drink',\n",
              "  'eatable': 'veg',\n",
              "  'name': 'slice',\n",
              "  'price': 30,\n",
              "  'quantity': 100},\n",
              " '1015': {'categories': 'soft drink',\n",
              "  'eatable': 'veg',\n",
              "  'name': 'nimbu pani',\n",
              "  'price': 10,\n",
              "  'quantity': 100},\n",
              " '1016': {'categories': 'fruits',\n",
              "  'eatable': 'veg',\n",
              "  'name': 'apple',\n",
              "  'price': 50,\n",
              "  'quantity': 100},\n",
              " '1017': {'categories': 'fruits',\n",
              "  'eatable': 'veg',\n",
              "  'name': 'mango',\n",
              "  'price': 60,\n",
              "  'quantity': 100},\n",
              " '1018': {'categories': 'fruits',\n",
              "  'eatable': 'veg',\n",
              "  'name': 'papaya',\n",
              "  'price': 90,\n",
              "  'quantity': 100},\n",
              " '1019': {'categories': 'fruits',\n",
              "  'eatable': 'veg',\n",
              "  'name': 'banana',\n",
              "  'price': 40,\n",
              "  'quantity': 100},\n",
              " '1020': {'categories': 'fruits',\n",
              "  'eatable': 'veg',\n",
              "  'name': 'grapes',\n",
              "  'price': 60,\n",
              "  'quantity': 100},\n",
              " '1021': {'categories': 'fruits',\n",
              "  'eatable': 'veg',\n",
              "  'name': 'berry',\n",
              "  'price': 60,\n",
              "  'quantity': 100},\n",
              " '1022': {'categories': 'fruits',\n",
              "  'eatable': 'veg',\n",
              "  'name': 'lichi',\n",
              "  'price': 40,\n",
              "  'quantity': 100},\n",
              " '1023': {'categories': 'fruits',\n",
              "  'eatable': 'veg',\n",
              "  'name': 'lemon',\n",
              "  'price': 60,\n",
              "  'quantity': 100},\n",
              " '1024': {'categories': 'fruits',\n",
              "  'eatable': 'veg',\n",
              "  'name': 'peach',\n",
              "  'price': 50,\n",
              "  'quantity': 100},\n",
              " '1025': {'categories': 'fruits',\n",
              "  'eatable': 'veg',\n",
              "  'name': 'watermelon',\n",
              "  'price': 60,\n",
              "  'quantity': 100},\n",
              " '1026': {'categories': 'fruits',\n",
              "  'eatable': 'veg',\n",
              "  'name': 'guava',\n",
              "  'price': 60,\n",
              "  'quantity': 100},\n",
              " '1027': {'categories': 'fruits',\n",
              "  'eatable': 'veg',\n",
              "  'name': 'olive',\n",
              "  'price': 50,\n",
              "  'quantity': 100},\n",
              " '1028': {'categories': 'fruits',\n",
              "  'eatable': 'veg',\n",
              "  'name': 'kivi',\n",
              "  'price': 90,\n",
              "  'quantity': 100},\n",
              " '1029': {'categories': 'fruits',\n",
              "  'eatable': 'veg',\n",
              "  'name': 'elderberry',\n",
              "  'price': 10,\n",
              "  'quantity': 100},\n",
              " '1030': {'categories': 'fruits',\n",
              "  'eatable': 'veg',\n",
              "  'name': 'dates',\n",
              "  'price': 50,\n",
              "  'quantity': 100}}"
            ]
          },
          "metadata": {},
          "execution_count": 42
        }
      ]
    },
    {
      "cell_type": "code",
      "metadata": {
        "colab": {
          "base_uri": "https://localhost:8080/"
        },
        "id": "N7OQDJutc0XP",
        "outputId": "848979ac-2420-4ddd-80ca-f696bd215cba"
      },
      "source": [
        "product_id=  str(input(\"Enter the product id which you want to buy:\"))\n",
        "product_quantity= int(input(\"Enter the quantity: \"))\n",
        "\n",
        "\n",
        "print(\"+*+*+*+*+*+*+*+*+*+*+*+*+*+*+*+*+\")\n",
        "\n",
        "print(\"Product:\",records[product_id][\"name\"])\n",
        "print(\"Price:\",records[product_id][\"price\"])\n",
        "print(\"Catergory:\",records[product_id][\"categories\"])\n",
        "print(\"Eatable:\",records[product_id][\"eatable\"])\n",
        "\n",
        "print(\"-------------------------------------------\")\n",
        "print(\"Amount to be paid\",records[product_id][\"price\"] * int(product_quantity))\n",
        "\n",
        "records[product_id][\"quantity\"]= records[product_id][\"quantity\"] - product_quantity"
      ],
      "execution_count": 43,
      "outputs": [
        {
          "output_type": "stream",
          "name": "stdout",
          "text": [
            "Enter the product id which you want to buy:1000\n",
            "Enter the quantity: 1\n",
            "+*+*+*+*+*+*+*+*+*+*+*+*+*+*+*+*+\n",
            "Product: oreo\n",
            "Price: 10\n",
            "Catergory: biscuit\n",
            "Eatable: veg\n",
            "-------------------------------------------\n",
            "Amount to be paid 10\n"
          ]
        }
      ]
    },
    {
      "cell_type": "code",
      "metadata": {
        "colab": {
          "base_uri": "https://localhost:8080/"
        },
        "id": "ebC8tQmLc0ad",
        "outputId": "a36feb1c-c566-4f60-8716-6a7da9de4fb6"
      },
      "source": [
        "records"
      ],
      "execution_count": 44,
      "outputs": [
        {
          "output_type": "execute_result",
          "data": {
            "text/plain": [
              "{'1000': {'categories': 'biscuit',\n",
              "  'eatable': 'veg',\n",
              "  'name': 'oreo',\n",
              "  'price': 10,\n",
              "  'quantity': 99},\n",
              " '1001': {'categories': 'biscuit',\n",
              "  'eatable': 'veg',\n",
              "  'name': 'sunfeast',\n",
              "  'price': 10,\n",
              "  'quantity': 100},\n",
              " '1002': {'categories': 'biscuit',\n",
              "  'eatable': 'veg',\n",
              "  'name': 'gudday',\n",
              "  'price': 10,\n",
              "  'quantity': 100},\n",
              " '1003': {'categories': 'biscuit',\n",
              "  'eatable': 'veg',\n",
              "  'name': 'bourbon',\n",
              "  'price': 10,\n",
              "  'quantity': 100},\n",
              " '1004': {'categories': 'chips',\n",
              "  'eatable': 'veg',\n",
              "  'name': 'lays',\n",
              "  'price': 10,\n",
              "  'quantity': 100},\n",
              " '1005': {'categories': 'chips',\n",
              "  'eatable': 'veg',\n",
              "  'name': 'kurkure',\n",
              "  'price': 10,\n",
              "  'quantity': 100},\n",
              " '1006': {'categories': 'chips',\n",
              "  'eatable': 'veg',\n",
              "  'name': 'unclechips',\n",
              "  'price': 10,\n",
              "  'quantity': 100},\n",
              " '1007': {'categories': 'soft drink',\n",
              "  'eatable': 'veg',\n",
              "  'name': 'mirinda',\n",
              "  'price': 30,\n",
              "  'quantity': 100},\n",
              " '1008': {'categories': 'soft drink',\n",
              "  'eatable': 'veg',\n",
              "  'name': 'coka cola',\n",
              "  'price': 30,\n",
              "  'quantity': 100},\n",
              " '1009': {'categories': 'soft drink',\n",
              "  'eatable': 'veg',\n",
              "  'name': 'limca',\n",
              "  'price': 30,\n",
              "  'quantity': 100},\n",
              " '1010': {'categories': 'soft drink',\n",
              "  'eatable': 'veg',\n",
              "  'name': 'dew',\n",
              "  'price': 30,\n",
              "  'quantity': 100},\n",
              " '1011': {'categories': 'soft drink',\n",
              "  'eatable': 'veg',\n",
              "  'name': 'monster',\n",
              "  'price': 30,\n",
              "  'quantity': 100},\n",
              " '1012': {'categories': 'soft drink',\n",
              "  'eatable': 'veg',\n",
              "  'name': 'sting',\n",
              "  'price': 20,\n",
              "  'quantity': 100},\n",
              " '1013': {'categories': 'soft drink',\n",
              "  'eatable': 'veg',\n",
              "  'name': 'maza',\n",
              "  'price': 20,\n",
              "  'quantity': 100},\n",
              " '1014': {'categories': 'soft drink',\n",
              "  'eatable': 'veg',\n",
              "  'name': 'slice',\n",
              "  'price': 30,\n",
              "  'quantity': 100},\n",
              " '1015': {'categories': 'soft drink',\n",
              "  'eatable': 'veg',\n",
              "  'name': 'nimbu pani',\n",
              "  'price': 10,\n",
              "  'quantity': 100},\n",
              " '1016': {'categories': 'fruits',\n",
              "  'eatable': 'veg',\n",
              "  'name': 'apple',\n",
              "  'price': 50,\n",
              "  'quantity': 100},\n",
              " '1017': {'categories': 'fruits',\n",
              "  'eatable': 'veg',\n",
              "  'name': 'mango',\n",
              "  'price': 60,\n",
              "  'quantity': 100},\n",
              " '1018': {'categories': 'fruits',\n",
              "  'eatable': 'veg',\n",
              "  'name': 'papaya',\n",
              "  'price': 90,\n",
              "  'quantity': 100},\n",
              " '1019': {'categories': 'fruits',\n",
              "  'eatable': 'veg',\n",
              "  'name': 'banana',\n",
              "  'price': 40,\n",
              "  'quantity': 100},\n",
              " '1020': {'categories': 'fruits',\n",
              "  'eatable': 'veg',\n",
              "  'name': 'grapes',\n",
              "  'price': 60,\n",
              "  'quantity': 100},\n",
              " '1021': {'categories': 'fruits',\n",
              "  'eatable': 'veg',\n",
              "  'name': 'berry',\n",
              "  'price': 60,\n",
              "  'quantity': 100},\n",
              " '1022': {'categories': 'fruits',\n",
              "  'eatable': 'veg',\n",
              "  'name': 'lichi',\n",
              "  'price': 40,\n",
              "  'quantity': 100},\n",
              " '1023': {'categories': 'fruits',\n",
              "  'eatable': 'veg',\n",
              "  'name': 'lemon',\n",
              "  'price': 60,\n",
              "  'quantity': 100},\n",
              " '1024': {'categories': 'fruits',\n",
              "  'eatable': 'veg',\n",
              "  'name': 'peach',\n",
              "  'price': 50,\n",
              "  'quantity': 100},\n",
              " '1025': {'categories': 'fruits',\n",
              "  'eatable': 'veg',\n",
              "  'name': 'watermelon',\n",
              "  'price': 60,\n",
              "  'quantity': 100},\n",
              " '1026': {'categories': 'fruits',\n",
              "  'eatable': 'veg',\n",
              "  'name': 'guava',\n",
              "  'price': 60,\n",
              "  'quantity': 100},\n",
              " '1027': {'categories': 'fruits',\n",
              "  'eatable': 'veg',\n",
              "  'name': 'olive',\n",
              "  'price': 50,\n",
              "  'quantity': 100},\n",
              " '1028': {'categories': 'fruits',\n",
              "  'eatable': 'veg',\n",
              "  'name': 'kivi',\n",
              "  'price': 90,\n",
              "  'quantity': 100},\n",
              " '1029': {'categories': 'fruits',\n",
              "  'eatable': 'veg',\n",
              "  'name': 'elderberry',\n",
              "  'price': 10,\n",
              "  'quantity': 100},\n",
              " '1030': {'categories': 'fruits',\n",
              "  'eatable': 'veg',\n",
              "  'name': 'dates',\n",
              "  'price': 50,\n",
              "  'quantity': 100}}"
            ]
          },
          "metadata": {},
          "execution_count": 44
        }
      ]
    },
    {
      "cell_type": "code",
      "metadata": {
        "id": "LxB1v6_Vc0c8"
      },
      "source": [
        "js = json.dumps(records)\n",
        "fd= open(\"records\",\"w\")\n",
        "fd.write(js)\n",
        "fd.close()"
      ],
      "execution_count": 45,
      "outputs": []
    },
    {
      "cell_type": "code",
      "metadata": {
        "id": "GpfmVue-c0gt"
      },
      "source": [
        "sales= {1:{\"prod:\": product_id,\"quan:\":product_quantity,\"Amt:\":records[product_id][\"price\"] * int(product_quantity)},\n",
        "        2:{\"prod:\": product_id,\"quan:\":product_quantity,\"Amt:\":records[product_id][\"price\"] * int(product_quantity)},\n",
        "        3:{\"prod:\": product_id,\"quan:\":product_quantity,\"Amt:\":records[product_id][\"price\"] * int(product_quantity)},\n",
        "        4:{\"prod:\": product_id,\"quan:\":product_quantity,\"Amt:\":records[product_id][\"price\"] * int(product_quantity)},\n",
        "        5:{\"prod:\": product_id,\"quan:\":product_quantity,\"Amt:\":records[product_id][\"price\"] * int(product_quantity)},\n",
        "        6:{\"prod:\": product_id,\"quan:\":product_quantity,\"Amt:\":records[product_id][\"price\"] * int(product_quantity)},\n",
        "        7:{\"prod:\": product_id,\"quan:\":product_quantity,\"Amt:\":records[product_id][\"price\"] * int(product_quantity)},\n",
        "        8:{\"prod:\": product_id,\"quan:\":product_quantity,\"Amt:\":records[product_id][\"price\"] * int(product_quantity)},\n",
        "        9:{\"prod:\": product_id,\"quan:\":product_quantity,\"Amt:\":records[product_id][\"price\"] * int(product_quantity)},\n",
        "        10:{\"prod:\": product_id,\"quan:\":product_quantity,\"Amt:\":records[product_id][\"price\"] * int(product_quantity)}}\n",
        "        \n",
        "\n",
        "\n",
        "\n",
        "\n",
        "\n",
        "\n",
        "\n",
        "\n",
        "\n",
        "\n",
        "\n"
      ],
      "execution_count": 52,
      "outputs": []
    },
    {
      "cell_type": "code",
      "metadata": {
        "id": "QaRz_hQuc0jI"
      },
      "source": [
        "sale= json.dumps(sales)"
      ],
      "execution_count": 55,
      "outputs": []
    },
    {
      "cell_type": "code",
      "metadata": {
        "colab": {
          "base_uri": "https://localhost:8080/"
        },
        "id": "4CmI-OTAwAPU",
        "outputId": "fdb44a95-01f0-4044-f7f5-a4808362dc61"
      },
      "source": [
        "sales"
      ],
      "execution_count": 57,
      "outputs": [
        {
          "output_type": "execute_result",
          "data": {
            "text/plain": [
              "{1: {'Amt:': 10, 'prod:': '1000', 'quan:': 1},\n",
              " 2: {'Amt:': 10, 'prod:': '1000', 'quan:': 1},\n",
              " 3: {'Amt:': 10, 'prod:': '1000', 'quan:': 1},\n",
              " 4: {'Amt:': 10, 'prod:': '1000', 'quan:': 1},\n",
              " 5: {'Amt:': 10, 'prod:': '1000', 'quan:': 1},\n",
              " 6: {'Amt:': 10, 'prod:': '1000', 'quan:': 1},\n",
              " 7: {'Amt:': 10, 'prod:': '1000', 'quan:': 1},\n",
              " 8: {'Amt:': 10, 'prod:': '1000', 'quan:': 1},\n",
              " 9: {'Amt:': 10, 'prod:': '1000', 'quan:': 1},\n",
              " 10: {'Amt:': 10, 'prod:': '1000', 'quan:': 1}}"
            ]
          },
          "metadata": {},
          "execution_count": 57
        }
      ]
    },
    {
      "cell_type": "code",
      "metadata": {
        "id": "kshUOkiSc0lQ"
      },
      "source": [
        "fd= open(\"sales.json\",\"w\")\n",
        "fd.write(sale)\n",
        "fd.close()"
      ],
      "execution_count": 62,
      "outputs": []
    },
    {
      "cell_type": "code",
      "metadata": {
        "id": "v67srA6uc0no"
      },
      "source": [
        "fd=open(\"sales.json\",\"r\")\n",
        "t=fd.read()\n",
        "fd.close()"
      ],
      "execution_count": 60,
      "outputs": []
    },
    {
      "cell_type": "code",
      "metadata": {
        "id": "wnIGtaSsc0t4"
      },
      "source": [
        ""
      ],
      "execution_count": null,
      "outputs": []
    },
    {
      "cell_type": "code",
      "metadata": {
        "id": "gnvNs_-Tc0wd"
      },
      "source": [
        ""
      ],
      "execution_count": null,
      "outputs": []
    }
  ]
}